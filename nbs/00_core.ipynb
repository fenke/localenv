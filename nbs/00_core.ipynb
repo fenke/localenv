{
 "cells": [
  {
   "cell_type": "markdown",
   "metadata": {},
   "source": [
    "# create\n",
    "\n",
    "> Fill in a module description here"
   ]
  },
  {
   "cell_type": "code",
   "execution_count": null,
   "metadata": {},
   "outputs": [],
   "source": [
    "#| default_exp envs"
   ]
  },
  {
   "cell_type": "code",
   "execution_count": null,
   "metadata": {},
   "outputs": [],
   "source": [
    "#| hide\n",
    "from nbdev.showdoc import *"
   ]
  },
  {
   "cell_type": "code",
   "execution_count": null,
   "metadata": {},
   "outputs": [],
   "source": [
    "#| export\n",
    "import os, pathlib, json\n",
    "\n"
   ]
  },
  {
   "cell_type": "code",
   "execution_count": null,
   "metadata": {},
   "outputs": [],
   "source": [
    "import localenv"
   ]
  },
  {
   "cell_type": "code",
   "execution_count": null,
   "metadata": {},
   "outputs": [],
   "source": [
    "#| export\n",
    "\n",
    "def _create_getenv(env_vars:dict, def_getenv=os.getenv):\n",
    "    '''Internal function to create a getenv function using the dict specified\n",
    "    environment variabels and a fallback getenv function'''\n",
    "\n",
    "    def _getenv(V, D=None):\n",
    "        '''Locally created with user dictionary'''\n",
    "        assert V is not None, f\"Can not have '{str(V)}' as var name\"\n",
    "        return env_vars.get(V, def_getenv(V,D))\n",
    "\n",
    "    return _getenv\n"
   ]
  },
  {
   "cell_type": "code",
   "execution_count": null,
   "metadata": {},
   "outputs": [
    {
     "data": {
      "text/plain": [
       "False"
      ]
     },
     "execution_count": null,
     "metadata": {},
     "output_type": "execute_result"
    }
   ],
   "source": [
    "pathlib.Path.cwd().joinpath('.env.json').exists()"
   ]
  },
  {
   "cell_type": "code",
   "execution_count": null,
   "metadata": {},
   "outputs": [],
   "source": [
    "current_path = pathlib.Path.cwd()\n",
    "home = pathlib.Path.home()\n",
    "root = pathlib.Path(current_path.root)\n"
   ]
  },
  {
   "cell_type": "code",
   "execution_count": null,
   "metadata": {},
   "outputs": [
    {
     "data": {
      "text/plain": [
       "Path('home/fenke/repos/localenv/nbs')"
      ]
     },
     "execution_count": null,
     "metadata": {},
     "output_type": "execute_result"
    }
   ],
   "source": [
    "current_path.relative_to(root)"
   ]
  },
  {
   "cell_type": "code",
   "execution_count": null,
   "metadata": {},
   "outputs": [
    {
     "data": {
      "text/plain": [
       "Path('.')"
      ]
     },
     "execution_count": null,
     "metadata": {},
     "output_type": "execute_result"
    }
   ],
   "source": [
    "root.relative_to(root)"
   ]
  },
  {
   "cell_type": "code",
   "execution_count": null,
   "metadata": {},
   "outputs": [
    {
     "name": "stdout",
     "output_type": "stream",
     "text": [
      "/home/fenke/repos/localenv/nbs /home/fenke/repos/localenv/nbs/.env.json False\n",
      "/home/fenke/repos/localenv /home/fenke/repos/localenv/.env.json False\n",
      "/home/fenke/repos /home/fenke/repos/.env.json False\n",
      "/home/fenke /home/fenke/.env.json False\n",
      "/home/fenke\n"
     ]
    }
   ],
   "source": [
    "# invariant:current_path = current_path.joinpath(home, current_path.relative_to(home))\n",
    "try:\n",
    "    while not current_path.joinpath(home, current_path.relative_to(home), '.env-f.json').exists():\n",
    "        print(current_path, current_path.joinpath(home, current_path.relative_to(home), '.env.json'), current_path.joinpath(home, current_path.relative_to(home), '.env-f.json').exists())\n",
    "        current_path = current_path.parent\n",
    "\n",
    "    print(current_path)\n",
    "\n",
    "except ValueError:\n",
    "    print(home)\n",
    "    \n",
    "\n"
   ]
  },
  {
   "cell_type": "code",
   "execution_count": null,
   "metadata": {},
   "outputs": [],
   "source": [
    "current_path = pathlib.Path.cwd()\n",
    "home = pathlib.Path.home()\n",
    "root = pathlib.Path(home.root)"
   ]
  },
  {
   "cell_type": "code",
   "execution_count": null,
   "metadata": {},
   "outputs": [
    {
     "data": {
      "text/plain": [
       "[Path('/home/fenke/repos/localenv'),\n",
       " Path('/home/fenke/repos'),\n",
       " Path('/home/fenke'),\n",
       " Path('/home'),\n",
       " Path('/')]"
      ]
     },
     "execution_count": null,
     "metadata": {},
     "output_type": "execute_result"
    }
   ],
   "source": [
    "list(current_path.parents)"
   ]
  },
  {
   "cell_type": "code",
   "execution_count": null,
   "metadata": {},
   "outputs": [
    {
     "name": "stdout",
     "output_type": "stream",
     "text": [
      "/home/fenke/repos\n"
     ]
    }
   ],
   "source": [
    "for p in current_path.parents:\n",
    "    if p.joinpath('.env.json').exists():\n",
    "        print(p)\n",
    "        break"
   ]
  },
  {
   "cell_type": "code",
   "execution_count": null,
   "metadata": {},
   "outputs": [],
   "source": [
    "#| export\n",
    "def find_env_path(env_filename = '.env.json'):\n",
    "\n",
    "    current_path = pathlib.Path.cwd()\n",
    "    for p in current_path.parents:\n",
    "        if p.joinpath(env_filename).exists():\n",
    "            return p.joinpath(env_filename)\n",
    "\n",
    "    return pathlib.Path.home().joinpath(env_filename)\n",
    "\n"
   ]
  },
  {
   "cell_type": "code",
   "execution_count": null,
   "metadata": {},
   "outputs": [
    {
     "data": {
      "text/plain": [
       "Path('/home/fenke/repos/.env.json')"
      ]
     },
     "execution_count": null,
     "metadata": {},
     "output_type": "execute_result"
    }
   ],
   "source": [
    "find_env_path(\".env.json\")"
   ]
  },
  {
   "cell_type": "code",
   "execution_count": null,
   "metadata": {},
   "outputs": [
    {
     "name": "stdout",
     "output_type": "stream",
     "text": [
      "/home/fenke/repos/.env.json\n"
     ]
    }
   ],
   "source": [
    "env_filename = \".env.json\"\n",
    "env_path = find_env_path(env_filename)\n",
    "print(env_path)\n"
   ]
  },
  {
   "cell_type": "code",
   "execution_count": null,
   "metadata": {},
   "outputs": [
    {
     "data": {
      "text/plain": [
       "['USR_TOKEN', 'API_URL', 'API_TOKEN', 'VC_API', 'VC_TOKEN', 'bar']"
      ]
     },
     "execution_count": null,
     "metadata": {},
     "output_type": "execute_result"
    }
   ],
   "source": [
    "\n",
    "with open(env_path) as f:\n",
    "    env_vars = json.load(f)\n",
    "\n",
    "list(env_vars.keys())\n",
    "list(env_vars['production'].keys())"
   ]
  },
  {
   "cell_type": "code",
   "execution_count": null,
   "metadata": {},
   "outputs": [],
   "source": [
    "#| export\n",
    "#| eval: false\n",
    "\n",
    "with open(find_env_path()) as f:\n",
    "    env_vars = json.load(f)\n",
    "\n",
    "for k, e in env_vars.items():\n",
    "    globals()[k] = _create_getenv(env_vars=e)\n",
    "\n",
    "#globals()['__all__'] = list(set(env_vars.keys()) | set(globals().get('__all__',[])))\n"
   ]
  },
  {
   "cell_type": "code",
   "execution_count": null,
   "metadata": {},
   "outputs": [],
   "source": [
    "from localenv.envs import production as getenv"
   ]
  },
  {
   "cell_type": "code",
   "execution_count": null,
   "metadata": {},
   "outputs": [
    {
     "data": {
      "text/plain": [
       "'baz'"
      ]
     },
     "execution_count": null,
     "metadata": {},
     "output_type": "execute_result"
    }
   ],
   "source": [
    "getenv('bar')"
   ]
  },
  {
   "cell_type": "code",
   "execution_count": null,
   "metadata": {},
   "outputs": [],
   "source": [
    "os.getenv('bar')"
   ]
  },
  {
   "cell_type": "markdown",
   "metadata": {},
   "source": [
    "## Additional supportive functions"
   ]
  },
  {
   "cell_type": "code",
   "execution_count": null,
   "metadata": {},
   "outputs": [],
   "source": [
    "#| export\n",
    "\n",
    "def get_var_from_env_file(var_name, default_getenv=os.getenv, env_filename = '.env.json'):\n",
    "    env_path = find_env_path(env_filename)\n",
    "    with open(env_path) as f:\n",
    "        env_vars = json.load(f)\n",
    "    return env_vars.get(var_name, default_getenv(var_name))"
   ]
  },
  {
   "cell_type": "code",
   "execution_count": null,
   "metadata": {},
   "outputs": [
    {
     "data": {
      "text/plain": [
       "{'bar': 'baz'}"
      ]
     },
     "execution_count": null,
     "metadata": {},
     "output_type": "execute_result"
    }
   ],
   "source": [
    "get_var_from_env_file(\"foo\")"
   ]
  },
  {
   "cell_type": "code",
   "execution_count": null,
   "metadata": {},
   "outputs": [
    {
     "data": {
      "text/plain": [
       "'/home/fenke'"
      ]
     },
     "execution_count": null,
     "metadata": {},
     "output_type": "execute_result"
    }
   ],
   "source": [
    "get_var_from_env_file((\"HOME\"))"
   ]
  },
  {
   "cell_type": "code",
   "execution_count": null,
   "metadata": {},
   "outputs": [],
   "source": []
  },
  {
   "cell_type": "code",
   "execution_count": null,
   "metadata": {},
   "outputs": [],
   "source": [
    "#| export\n",
    "\n",
    "def update_env_file(section, var_name, var_value, env_filename = '.env.json'):\n",
    "    env_path = find_env_path(env_filename)\n",
    "    with open(env_path) as f:\n",
    "        env_vars = json.load(f)\n",
    "\n",
    "    section_vars = env_vars.get(section, {})\n",
    "    section_vars[var_name] = var_value\n",
    "    env_vars[section] = section_vars\n",
    "\n",
    "    with open(env_path, 'w') as f:\n",
    "        json.dump(env_vars, f, indent=3, ensure_ascii=True)"
   ]
  },
  {
   "cell_type": "code",
   "execution_count": null,
   "metadata": {},
   "outputs": [],
   "source": [
    "update_env_file(\"production\", \"bar\", \"baz\")"
   ]
  },
  {
   "cell_type": "code",
   "execution_count": null,
   "metadata": {},
   "outputs": [],
   "source": [
    "#| hide\n",
    "import nbdev; nbdev.nbdev_export()"
   ]
  }
 ],
 "metadata": {
  "kernelspec": {
   "display_name": "nbdev-env",
   "language": "python",
   "name": "nbdev-env"
  }
 },
 "nbformat": 4,
 "nbformat_minor": 4
}
